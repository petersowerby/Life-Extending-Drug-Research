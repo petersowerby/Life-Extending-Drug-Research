{
 "cells": [
  {
   "cell_type": "markdown",
   "metadata": {},
   "source": [
    "# Data Pre-Processing"
   ]
  },
  {
   "cell_type": "code",
   "execution_count": 15,
   "metadata": {},
   "outputs": [
    {
     "name": "stdout",
     "output_type": "stream",
     "text": [
      "X_train: (1144, 354)\n",
      "y_train: (1144,)\n",
      "\n",
      "X_test: (286, 354)\n",
      "y_test: (286,)\n"
     ]
    }
   ],
   "source": [
    "# splitting MD database in 20% test set and 80% training set\n",
    "\n",
    "X_train, X_test, y_train, y_test = train_test_split(X, y, test_size = 0.2, random_state = 1)\n",
    "print('X_train: {}'.format(X_train.shape))\n",
    "print('y_train: {}'.format(y_train.shape))\n",
    "print()\n",
    "print('X_test: {}'.format(X_test.shape))\n",
    "print('y_test: {}'.format(y_test.shape))"
   ]
  },
  {
   "cell_type": "code",
   "execution_count": 16,
   "metadata": {},
   "outputs": [],
   "source": [
    "# removing features with low variance\n",
    "\n",
    "def get_variance(threshold):\n",
    "    sel = VarianceThreshold(threshold = (threshold))\n",
    "    var_norm = sel.fit_transform(X_train)\n",
    "    features = sel.get_support(indices = True) \n",
    "    colname = X_train.columns[features]\n",
    "    var = pd.DataFrame(data = var_norm)\n",
    "    var.columns = colname\n",
    "    return (var)"
   ]
  },
  {
   "cell_type": "code",
   "execution_count": 17,
   "metadata": {},
   "outputs": [
    {
     "name": "stdout",
     "output_type": "stream",
     "text": [
      "Features with 0% variance: (1144, 349)\n",
      "Features with 5% variance: (1144, 289)\n",
      "Features with 10% variance: (1144, 277)\n"
     ]
    }
   ],
   "source": [
    "# creating subdatabases with a variance of 0%, 5% and 10%\n",
    "\n",
    "X_var_0 = get_variance(1*(1-1))\n",
    "X_var_5 = get_variance(0.95*(1-0.95))\n",
    "X_var_10 = get_variance(0.90*(1-0.90))\n",
    "\n",
    "print('Features with 0% variance: {}'.format(X_var_0.shape))\n",
    "print('Features with 5% variance: {}'.format(X_var_5.shape))\n",
    "print('Features with 10% variance: {}'.format(X_var_10.shape))"
   ]
  }
 ],
 "metadata": {
  "kernelspec": {
   "display_name": "Python 3",
   "language": "python",
   "name": "python3"
  },
  "language_info": {
   "codemirror_mode": {
    "name": "ipython",
    "version": 3
   },
   "file_extension": ".py",
   "mimetype": "text/x-python",
   "name": "python",
   "nbconvert_exporter": "python",
   "pygments_lexer": "ipython3",
   "version": "3.8.3"
  }
 },
 "nbformat": 4,
 "nbformat_minor": 4
}
