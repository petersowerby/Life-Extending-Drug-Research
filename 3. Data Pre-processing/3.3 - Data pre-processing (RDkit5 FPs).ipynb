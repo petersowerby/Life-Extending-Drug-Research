{
 "cells": [
  {
   "cell_type": "markdown",
   "metadata": {},
   "source": [
    "# Data Pre-Processing"
   ]
  },
  {
   "cell_type": "code",
   "execution_count": 12,
   "metadata": {},
   "outputs": [
    {
     "name": "stdout",
     "output_type": "stream",
     "text": [
      "X1_train: (1144, 2048)\n",
      "y1_train: (1144,)\n",
      "\n",
      "X1_test: (286, 2048)\n",
      "y1_test: (286,)\n"
     ]
    }
   ],
   "source": [
    "# splitting 1024-bit database in 20% test set and 80% training set\n",
    "\n",
    "X1_train, X1_test, y1_train, y1_test = train_test_split(X1, y1, test_size = 0.2, random_state = 1)\n",
    "print('X1_train: {}'.format(X1_train.shape))\n",
    "print('y1_train: {}'.format(y1_train.shape))\n",
    "print()\n",
    "print('X1_test: {}'.format(X1_test.shape))\n",
    "print('y1_test: {}'.format(y1_test.shape))"
   ]
  },
  {
   "cell_type": "code",
   "execution_count": 13,
   "metadata": {},
   "outputs": [],
   "source": [
    "# removing features with low variance\n",
    "\n",
    "def get_variance(df, threshold):\n",
    "    sel = VarianceThreshold(threshold = (threshold))\n",
    "    var = pd.DataFrame(data = sel.fit_transform(df))\n",
    "    features = sel.get_support(indices = True)\n",
    "    var.columns = features\n",
    "    return (var)"
   ]
  },
  {
   "cell_type": "code",
   "execution_count": 14,
   "metadata": {},
   "outputs": [
    {
     "name": "stdout",
     "output_type": "stream",
     "text": [
      "Features with 0% variance: (1144, 2048)\n",
      "Features with 5% variance: (1144, 1308)\n",
      "Features with 10% variance: (1144, 742)\n"
     ]
    }
   ],
   "source": [
    "# creating subdatabases with a variance of 0%, 5% and 10%\n",
    "\n",
    "X1_var_0 = get_variance(X1_train, 1*(1-1))\n",
    "X1_var_5 = get_variance(X1_train, 0.95*(1-0.95))\n",
    "X1_var_10 = get_variance(X1_train, 0.90*(1-0.90))\n",
    "\n",
    "print('Features with 0% variance: {}'.format(X1_var_0.shape))\n",
    "print('Features with 5% variance: {}'.format(X1_var_5.shape))\n",
    "print('Features with 10% variance: {}'.format(X1_var_10.shape))"
   ]
  }
 ],
 "metadata": {
  "kernelspec": {
   "display_name": "Python 3",
   "language": "python",
   "name": "python3"
  },
  "language_info": {
   "codemirror_mode": {
    "name": "ipython",
    "version": 3
   },
   "file_extension": ".py",
   "mimetype": "text/x-python",
   "name": "python",
   "nbconvert_exporter": "python",
   "pygments_lexer": "ipython3",
   "version": "3.8.3"
  }
 },
 "nbformat": 4,
 "nbformat_minor": 4
}
