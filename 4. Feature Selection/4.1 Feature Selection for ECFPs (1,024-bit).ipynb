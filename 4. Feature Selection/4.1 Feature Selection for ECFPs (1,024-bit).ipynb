{
 "cells": [
  {
   "cell_type": "markdown",
   "metadata": {},
   "source": [
    "# Feature Selection (1024-bit)"
   ]
  },
  {
   "cell_type": "code",
   "execution_count": 15,
   "metadata": {},
   "outputs": [],
   "source": [
    "# cross validation comparing the performances of X_var_0, X_var_5 and X_var_10 on the training set\n",
    "\n",
    "def cross_val (num_splits, n_estimators, X, y, random_seed):\n",
    "    sfk = StratifiedKFold(n_splits = num_splits, shuffle = True, random_state = random_seed)\n",
    "    rf = RandomForestClassifier(n_estimators = n_estimators, random_state = random_seed)\n",
    "    rf_cv_score = cross_val_score(rf, X, y, cv = sfk, scoring = 'roc_auc')\n",
    "    \n",
    "    return (statistics.median(rf_cv_score), statistics.stdev(rf_cv_score))"
   ]
  },
  {
   "cell_type": "code",
   "execution_count": 16,
   "metadata": {},
   "outputs": [],
   "source": [
    "# creating a list of feature selection values for X_var_0, X_var_5 and X_var_10\n",
    "\n",
    "feature_selection = []\n",
    "for subdatabase in (X1_var_0, X1_var_5, X1_var_10):\n",
    "    feature_selection.append(cross_val(10, 100, subdatabase , y1_train, 1))"
   ]
  },
  {
   "cell_type": "code",
   "execution_count": 17,
   "metadata": {},
   "outputs": [
    {
     "data": {
      "text/html": [
       "<div>\n",
       "<style scoped>\n",
       "    .dataframe tbody tr th:only-of-type {\n",
       "        vertical-align: middle;\n",
       "    }\n",
       "\n",
       "    .dataframe tbody tr th {\n",
       "        vertical-align: top;\n",
       "    }\n",
       "\n",
       "    .dataframe thead th {\n",
       "        text-align: right;\n",
       "    }\n",
       "</style>\n",
       "<table border=\"1\" class=\"dataframe\">\n",
       "  <thead>\n",
       "    <tr style=\"text-align: right;\">\n",
       "      <th></th>\n",
       "      <th>Median AUC score (%)</th>\n",
       "      <th>Standard Deviation</th>\n",
       "    </tr>\n",
       "  </thead>\n",
       "  <tbody>\n",
       "    <tr>\n",
       "      <th>X1_var_0</th>\n",
       "      <td>75.1</td>\n",
       "      <td>6.5</td>\n",
       "    </tr>\n",
       "    <tr>\n",
       "      <th>X1_var_5</th>\n",
       "      <td>76.9</td>\n",
       "      <td>4.6</td>\n",
       "    </tr>\n",
       "    <tr>\n",
       "      <th>X1_var_10</th>\n",
       "      <td>76.1</td>\n",
       "      <td>5.4</td>\n",
       "    </tr>\n",
       "  </tbody>\n",
       "</table>\n",
       "</div>"
      ],
      "text/plain": [
       "           Median AUC score (%)  Standard Deviation\n",
       "X1_var_0                   75.1                 6.5\n",
       "X1_var_5                   76.9                 4.6\n",
       "X1_var_10                  76.1                 5.4"
      ]
     },
     "metadata": {},
     "output_type": "display_data"
    }
   ],
   "source": [
    "# converting list into a comprehendable dataframe\n",
    "\n",
    "feature_selection_df = pd.DataFrame(data = feature_selection, index=['X1_var_0', 'X1_var_5', 'X1_var_10'])\n",
    "feature_selection_df = feature_selection_df.round(decimals=3)*100\n",
    "feature_selection_df.columns = [\"Median AUC score (%)\", \"Standard Deviation\"]\n",
    "display(feature_selection_df)"
   ]
  }
 ],
 "metadata": {
  "kernelspec": {
   "display_name": "Python 3",
   "language": "python",
   "name": "python3"
  },
  "language_info": {
   "codemirror_mode": {
    "name": "ipython",
    "version": 3
   },
   "file_extension": ".py",
   "mimetype": "text/x-python",
   "name": "python",
   "nbconvert_exporter": "python",
   "pygments_lexer": "ipython3",
   "version": "3.8.3"
  }
 },
 "nbformat": 4,
 "nbformat_minor": 4
}
